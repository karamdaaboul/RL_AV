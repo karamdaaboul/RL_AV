{
 "cells": [
  {
   "cell_type": "code",
   "execution_count": 1,
   "metadata": {},
   "outputs": [],
   "source": [
    "import numpy as np"
   ]
  },
  {
   "cell_type": "code",
   "execution_count": 3,
   "metadata": {},
   "outputs": [
    {
     "data": {
      "text/plain": [
       "array([[ 1.8       ,  0.        ],\n",
       "       [ 2.4       , -1.52788745],\n",
       "       [ 0.6       ,  0.        ],\n",
       "       [ 2.4       , -1.52788745],\n",
       "       [ 1.2       ,  3.81971863],\n",
       "       [ 1.8       , -2.86478898],\n",
       "       [ 1.2       ,  3.81971863],\n",
       "       [ 2.4       , -1.52788745],\n",
       "       [ 0.6       ,  0.        ],\n",
       "       [ 2.4       , -1.52788745]])"
      ]
     },
     "execution_count": 3,
     "metadata": {},
     "output_type": "execute_result"
    }
   ],
   "source": [
    "spec = np.array([[60 * 0.03, 0],\n",
    "                 [80 * 0.03, -80 * 0.03 * 2 / np.pi],\n",
    "                 # Note s = 1 * np.pi / 2 and r = -1 ---> Angle spanned = np.pi / 2\n",
    "                 [20 * 0.03, 0],\n",
    "                 [80 * 0.03, -80 * 0.03 * 2 / np.pi],\n",
    "                 [40 * 0.03, +40 * 0.03 * 10 / np.pi],\n",
    "                 [60 * 0.03, -60 * 0.03 * 5 / np.pi],\n",
    "                 [40 * 0.03, +40 * 0.03 * 10 / np.pi],\n",
    "                 [80 * 0.03, -80 * 0.03 * 2 / np.pi],\n",
    "                 [20 * 0.03, 0],\n",
    "                 [80 * 0.03, -80 * 0.03 * 2 / np.pi]])\n",
    "\n",
    "spec"
   ]
  },
  {
   "cell_type": "code",
   "execution_count": null,
   "metadata": {},
   "outputs": [],
   "source": [
    "PointAndTangent = np.zeros((spec.shape[0] + 1, 6))\n",
    "for i in range(0, spec.shape[0]):\n",
    "    if spec[i, 1] == 0.0:              # If the current segment is a straight line\n",
    "        l = spec[i, 0]                 # Length of the segments\n",
    "        if i == 0:\n",
    "            ang = 0                          # Angle of the tangent vector at the starting point of the segment\n",
    "            x = 0 + l * np.cos(ang)          # x coordinate of the last point of the segment\n",
    "            y = 0 + l * np.sin(ang)          # y coordinate of the last point of the segment\n",
    "        else:\n",
    "            ang = PointAndTangent[i - 1, 2]                 # Angle of the tangent vector at the starting point of the segment\n",
    "            x = PointAndTangent[i-1, 0] + l * np.cos(ang)  # x coordinate of the last point of the segment\n",
    "            y = PointAndTangent[i-1, 1] + l * np.sin(ang)  # y coordinate of the last point of the segment\n",
    "        psi = ang  # Angle of the tangent vector at the last point of the segment\n",
    "\n",
    "\n",
    "        if i == 0:\n",
    "            NewLine = np.array([x, y, psi, PointAndTangent[i, 3], l, 0])\n",
    "        else:\n",
    "            NewLine = np.array([x, y, psi, PointAndTangent[i-1, 3] + PointAndTangent[i-1, 4], l, 0])\n",
    "\n",
    "        PointAndTangent[i, :] = NewLine  # Write the new info"
   ]
  }
 ],
 "metadata": {
  "kernelspec": {
   "display_name": "venv_py3",
   "language": "python",
   "name": "venv_py3"
  },
  "language_info": {
   "codemirror_mode": {
    "name": "ipython",
    "version": 3
   },
   "file_extension": ".py",
   "mimetype": "text/x-python",
   "name": "python",
   "nbconvert_exporter": "python",
   "pygments_lexer": "ipython3",
   "version": "3.5.2"
  }
 },
 "nbformat": 4,
 "nbformat_minor": 2
}
