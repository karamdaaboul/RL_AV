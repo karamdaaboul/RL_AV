{
 "cells": [
  {
   "cell_type": "markdown",
   "metadata": {},
   "source": [
    "# PPO"
   ]
  },
  {
   "cell_type": "code",
   "execution_count": null,
   "metadata": {},
   "outputs": [],
   "source": [
    "import gym\n",
    "import numpy as np\n",
    "import yaml\n",
    "import os\n",
    "import random\n",
    "from collections import OrderedDict\n",
    "import tensorflow as tf\n",
    "from stable_baselines.a2c.utils import conv, linear, conv_to_fc\n",
    "from stable_baselines.common.policies import FeedForwardPolicy\n",
    "from stable_baselines.common.vec_env import DummyVecEnv\n",
    "from stable_baselines.common.policies import register_policy\n",
    "from stable_baselines import PPO1"
   ]
  },
  {
   "cell_type": "markdown",
   "metadata": {},
   "source": [
    "## Create Custom CNN Policy"
   ]
  },
  {
   "cell_type": "code",
   "execution_count": null,
   "metadata": {},
   "outputs": [],
   "source": [
    "def nature_cnn(scaled_images, **kwargs):\n",
    "    \"\"\"\n",
    "    CNN from Nature paper.\n",
    "    :param scaled_images: (TensorFlow Tensor) Image input placeholder\n",
    "    :param kwargs: (dict) Extra keywords parameters for the convolutional layers of the CNN\n",
    "    :return: (TensorFlow Tensor) The CNN output layer\n",
    "    \"\"\"\n",
    "    activ = tf.nn.relu\n",
    "    layer_1 = activ(conv(scaled_images, 'c1', n_filters=32, filter_size=8, stride=4, init_scale=np.sqrt(2), **kwargs))\n",
    "    layer_2 = activ(conv(layer_1, 'c2', n_filters=64, filter_size=4, stride=2, init_scale=np.sqrt(2), **kwargs))\n",
    "    layer_3 = activ(conv(layer_2, 'c3', n_filters=64, filter_size=3, stride=1, init_scale=np.sqrt(2), **kwargs))\n",
    "    layer_3 = conv_to_fc(layer_3)\n",
    "    return activ(linear(layer_3, 'fc1', n_hidden=512, init_scale=np.sqrt(2)))\n",
    "\n",
    "class CustomPolicyCnn(FeedForwardPolicy):\n",
    "    def __init__(self, sess, ob_space, ac_space, n_env, n_steps, n_batch, reuse=False, **_kwargs):\n",
    "        super(CustomPolicyCnn, self).__init__(sess, ob_space, ac_space, n_env, n_steps, n_batch, reuse,\n",
    "                cnn_extractor=nature_cnn, feature_extraction=\"cnn\", **_kwargs)"
   ]
  },
  {
   "cell_type": "code",
   "execution_count": null,
   "metadata": {},
   "outputs": [],
   "source": [
    "register_policy('CustomPolicyCnn', CustomPolicyCnn)"
   ]
  },
  {
   "cell_type": "markdown",
   "metadata": {},
   "source": [
    "## Arguments"
   ]
  },
  {
   "cell_type": "code",
   "execution_count": null,
   "metadata": {},
   "outputs": [],
   "source": [
    "agent_name= 'CarRacing_ppo_test'\n",
    "env_id = 'CarRacing-v0'\n",
    "seed = 0\n",
    "policy = 'CustomPolicyCnn'\n",
    "log_interval = 1\n",
    "total_timesteps = 10000\n",
    "# Stage= 0 : Create a new agent\n",
    "# Stage> 1: Load an agent \n",
    "stage = 0"
   ]
  },
  {
   "cell_type": "markdown",
   "metadata": {},
   "source": [
    "## Pathes:\n",
    "Don't forget to create the directorie: results, logs, checkout and agents in your no_backup\n",
    "`mkdir results` etc."
   ]
  },
  {
   "cell_type": "code",
   "execution_count": null,
   "metadata": {},
   "outputs": [],
   "source": [
    "tensorboard_log = \"no_backup/results/logs\"\n",
    "checkpoint = \"no_backup/checkout\"\n",
    "final_model = \"no_backup/agents\"\n",
    "path_to_tensorboard_log = os.path.join(os.getenv(\"HOME\"),tensorboard_log)\n",
    "# The path where we saved the model (model.load)\n",
    "path_to_checkpoint = os.path.join(os.getenv(\"HOME\"),checkpoint)\n",
    "# path to save the model (model.save)\n",
    "path_to_final_model = os.path.join(os.getenv(\"HOME\"),final_model)"
   ]
  },
  {
   "cell_type": "markdown",
   "metadata": {},
   "source": [
    "## Environment:"
   ]
  },
  {
   "cell_type": "code",
   "execution_count": null,
   "metadata": {},
   "outputs": [],
   "source": [
    "import gym\n",
    "# Create and wrap the environment\n",
    "env = gym.make(env_id)\n",
    "env.seed(seed)\n",
    "#if env_wrapper is not None:\n",
    "#    env = env_wrapper(env)\n",
    "env = DummyVecEnv([lambda:env])"
   ]
  },
  {
   "cell_type": "markdown",
   "metadata": {},
   "source": [
    "## Define a  Model:"
   ]
  },
  {
   "cell_type": "markdown",
   "metadata": {},
   "source": [
    "### Initialization \n",
    "define a new model"
   ]
  },
  {
   "cell_type": "code",
   "execution_count": null,
   "metadata": {},
   "outputs": [],
   "source": [
    "from stable_baselines.common.policies import CnnPolicy\n",
    "tensorboard_log = os.path.join('/logs', env_id)\n",
    "hyperparams = {'clip_param':0.25}\n",
    "if stage == 0:\n",
    "    model = PPO1(env=env, \n",
    "                 policy = policy, \n",
    "                 tensorboard_log='%s'%(path_to_tensorboard_log), \n",
    "                 verbose=1, \n",
    "                 **hyperparams)"
   ]
  },
  {
   "cell_type": "markdown",
   "metadata": {},
   "source": [
    "### Laoding:"
   ]
  },
  {
   "cell_type": "code",
   "execution_count": null,
   "metadata": {},
   "outputs": [],
   "source": [
    "if stage > 0:\n",
    "    model = PPO1.load(\"%s/%s\" % (path_to_checkpoint, args.pretrained_model.strip()),\n",
    "                      env=env, \n",
    "                      tensorboard_log='%s'%(path_to_tensorboard_log), \n",
    "                      verbose=1, \n",
    "                      **hyperparams)"
   ]
  },
  {
   "cell_type": "markdown",
   "metadata": {},
   "source": [
    "## Training"
   ]
  },
  {
   "cell_type": "code",
   "execution_count": null,
   "metadata": {},
   "outputs": [],
   "source": [
    "kwargs = {}\n",
    "if log_interval > -1:\n",
    "    kwargs = {'log_interval': log_interval}\n",
    "\n",
    "model.learn(total_timesteps=total_timesteps, **kwargs)"
   ]
  },
  {
   "cell_type": "markdown",
   "metadata": {},
   "source": [
    "## Saving"
   ]
  },
  {
   "cell_type": "code",
   "execution_count": null,
   "metadata": {},
   "outputs": [],
   "source": [
    "print (\"The trained model is successfully saved.\")\n",
    "model.save(\"%s/%s\" % (path_to_final_model,agent_name))"
   ]
  },
  {
   "cell_type": "markdown",
   "metadata": {},
   "source": [
    "## Evaluation"
   ]
  },
  {
   "cell_type": "code",
   "execution_count": null,
   "metadata": {},
   "outputs": [],
   "source": [
    "for j in range(4):\n",
    "    obs = env.reset()\n",
    "    for i in range(1000):\n",
    "        action, _states = model.predict(obs)\n",
    "        obs, rewards, dones, info = env.step(action)\n",
    "        env.render()\n",
    "        if dones:\n",
    "            break\n",
    "env.close()"
   ]
  },
  {
   "cell_type": "code",
   "execution_count": null,
   "metadata": {},
   "outputs": [],
   "source": []
  }
 ],
 "metadata": {
  "kernelspec": {
   "display_name": "venv_py3",
   "language": "python",
   "name": "venv_py3"
  },
  "language_info": {
   "codemirror_mode": {
    "name": "ipython",
    "version": 3
   },
   "file_extension": ".py",
   "mimetype": "text/x-python",
   "name": "python",
   "nbconvert_exporter": "python",
   "pygments_lexer": "ipython3",
   "version": "3.5.2"
  }
 },
 "nbformat": 4,
 "nbformat_minor": 2
}
