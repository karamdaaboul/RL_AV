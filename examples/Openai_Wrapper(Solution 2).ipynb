{
 "cells": [
  {
   "cell_type": "markdown",
   "metadata": {},
   "source": [
    "To train an RL agent with OpenAi Baseline, we run the following command:"
   ]
  },
  {
   "cell_type": "code",
   "execution_count": null,
   "metadata": {},
   "outputs": [],
   "source": [
    "!mkdir ~/no_backup/RL_AV/logs"
   ]
  },
  {
   "cell_type": "code",
   "execution_count": null,
   "metadata": {},
   "outputs": [],
   "source": [
    "!OPENAI_LOGDIR=$~/no_backup/RL_AV/logs/carracing-a2c OPENAI_LOG_FORMAT=csv python -m baselines.run --alg=a2c  --env=CarRacing-v0 --network=cnn  --num_timesteps=1e4"
   ]
  },
  {
   "cell_type": "markdown",
   "metadata": {},
   "source": [
    "We define the `CarRacing` environment as an argument and use it as input for the `a2`c algorithm. If we want to preprocess the observation of this environment, such as changing the color or cropping the image, the easiest solution is to create a new version of the `CarRacing-v0` environment."
   ]
  },
  {
   "cell_type": "markdown",
   "metadata": {},
   "source": [
    "### Step 1: \n",
    "copy the new environment from the `RL_AV` package to the box2d environment in the `gym`"
   ]
  },
  {
   "cell_type": "code",
   "execution_count": null,
   "metadata": {},
   "outputs": [],
   "source": [
    "!cd ~/no_backup/RL_AV/\n",
    "!cp -r box2d/  ~/no_backup/venv_ml/lib/python3.5/site-packages/gym/envs/"
   ]
  },
  {
   "cell_type": "markdown",
   "metadata": {},
   "source": [
    "### Step 2: \n",
    "Add the register of the new environment \n",
    "\n",
    "```\n",
    "register(\n",
    "    id='CarRacing-v1',\n",
    "    entry_point='gym.envs.box2d:CarRacing2',\n",
    "    max_episode_steps=1000,\n",
    "    reward_threshold=900,\n",
    ")\n",
    "```\n",
    "\n",
    "to your pacakge:"
   ]
  },
  {
   "cell_type": "code",
   "execution_count": null,
   "metadata": {},
   "outputs": [],
   "source": [
    "!gedit ~/no_backup/venv_ml/lib/python3.5/site-packages/gym/envs/__init__.py"
   ]
  },
  {
   "cell_type": "markdown",
   "metadata": {},
   "source": [
    "You can also open and edit the `__init__.py` with `Code` or `Pycharm` or any text editor."
   ]
  },
  {
   "cell_type": "markdown",
   "metadata": {},
   "source": [
    "### Step3: \n",
    "Test the new environemt"
   ]
  },
  {
   "cell_type": "code",
   "execution_count": null,
   "metadata": {},
   "outputs": [],
   "source": [
    "import numpy as np\n",
    "import gym\n",
    "env_old = gym.make('CarRacing-v0')\n",
    "env_new = gym.make('CarRacing-v1')"
   ]
  },
  {
   "cell_type": "code",
   "execution_count": null,
   "metadata": {},
   "outputs": [],
   "source": [
    "obs = env_old.reset()\n",
    "print(\"The shape of the observation room of the old environment: \", np.shape(obs))\n",
    "env_old.close()"
   ]
  },
  {
   "cell_type": "code",
   "execution_count": null,
   "metadata": {},
   "outputs": [],
   "source": [
    "obs = env_new.reset()\n",
    "print(\"The shape of the observation room of the old environment: \", np.shape(obs))\n",
    "env_new.close()"
   ]
  },
  {
   "cell_type": "markdown",
   "metadata": {},
   "source": [
    "train the agent in the new environment"
   ]
  },
  {
   "cell_type": "code",
   "execution_count": null,
   "metadata": {},
   "outputs": [],
   "source": [
    "!OPENAI_LOGDIR=$~/no_backup/RL_AV/logs/carracing-a2c OPENAI_LOG_FORMAT=csv python -m baselines.run --alg=a2c  --env=CarRacing-v1 --network=cnn  --num_timesteps=1e4"
   ]
  },
  {
   "cell_type": "markdown",
   "metadata": {},
   "source": [
    "### Preprocessing:\n",
    "If you want to crop or preprocess the pixels of an observation, you can change the `preprocess_observation` function in `CarRacing-v1` and add your functions to it."
   ]
  },
  {
   "cell_type": "code",
   "execution_count": null,
   "metadata": {},
   "outputs": [],
   "source": [
    "!gedit ~/no_backup/venv_ml/lib/python3.5/site-packages/gym/envs/box2d/car_racing_2.py"
   ]
  },
  {
   "cell_type": "markdown",
   "metadata": {},
   "source": [
    "**Note Do not forget to adapt the shape of the observation space of your environment to the shape of the pre-processed observation:**\n",
    "```python\n",
    "self.observation_space = spaces.Box(low=0, high=255, shape=(40, 48, 1), dtype=np.uint8)\n",
    "```"
   ]
  },
  {
   "cell_type": "markdown",
   "metadata": {},
   "source": [
    "```Python\n",
    "\n",
    "```"
   ]
  }
 ],
 "metadata": {
  "kernelspec": {
   "display_name": "venv_ml_prak",
   "language": "python",
   "name": "venv_ml_prak"
  },
  "language_info": {
   "codemirror_mode": {
    "name": "ipython",
    "version": 3
   },
   "file_extension": ".py",
   "mimetype": "text/x-python",
   "name": "python",
   "nbconvert_exporter": "python",
   "pygments_lexer": "ipython3",
   "version": "3.5.2"
  }
 },
 "nbformat": 4,
 "nbformat_minor": 2
}
